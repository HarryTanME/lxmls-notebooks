{
 "cells": [
  {
   "cell_type": "code",
   "execution_count": 7,
   "metadata": {
    "collapsed": true
   },
   "outputs": [],
   "source": [
    "from theano import tensor as T\n",
    "import numpy as np\n",
    "import theano"
   ]
  },
  {
   "cell_type": "code",
   "execution_count": 19,
   "metadata": {},
   "outputs": [
    {
     "data": {
      "text/plain": [
       "array([[ 0.,  0.,  0.,  0.,  0.],\n",
       "       [ 1.,  1.,  1.,  1.,  1.],\n",
       "       [ 2.,  2.,  2.,  2.,  2.],\n",
       "       [ 3.,  3.,  3.,  3.,  3.]], dtype=float32)"
      ]
     },
     "execution_count": 19,
     "metadata": {},
     "output_type": "execute_result"
    }
   ],
   "source": [
    "# fake word embeddings (just for this demonstration)\n",
    "z1 = np.arange(4).repeat(5).reshape([4,5]).astype(theano.config.floatX)\n",
    "_z1 = theano.shared(z1, borrow=True)\n",
    "_z1.get_value()"
   ]
  },
  {
   "cell_type": "code",
   "execution_count": 11,
   "metadata": {},
   "outputs": [
    {
     "data": {
      "text/plain": [
       "array([[ 0.,  0.,  0.,  0.,  0.,  0.,  0.,  0.,  0.,  0.]], dtype=float32)"
      ]
     },
     "execution_count": 11,
     "metadata": {},
     "output_type": "execute_result"
    }
   ],
   "source": [
    "# real initial state\n",
    "n_hidd = 10\n",
    "h0  = np.zeros((1, n_hidd)).astype(theano.config.floatX)\n",
    "_h0 = theano.shared(h0, borrow=True)\n",
    "_h0.get_value()"
   ]
  },
  {
   "cell_type": "code",
   "execution_count": 25,
   "metadata": {},
   "outputs": [
    {
     "name": "stdout",
     "output_type": "stream",
     "text": [
      "(5, 10)\n",
      "(10, 10)\n"
     ]
    }
   ],
   "source": [
    "# fake weight matrices\n",
    "_W_x = np.random.randn(5,n_hidd)\n",
    "_W_h = np.random.randn(n_hidd, n_hidd)\n",
    "print(_W_x.shape)\n",
    "print(_W_h.shape)"
   ]
  },
  {
   "cell_type": "code",
   "execution_count": 28,
   "metadata": {},
   "outputs": [],
   "source": [
    "# our step function\n",
    "def _step(_x_tm1, _h_tm1, _W_x, W_h):\n",
    "    return _h_tm1+1\n",
    "\n",
    "\n",
    "# This creates the variable length computation graph (unrols the rnn)\n",
    "_h, updates = theano.scan(fn=_step,  \n",
    "                          sequences=_z1, \n",
    "                          outputs_info=dict(initial=_h0),\n",
    "                          non_sequences=[_W_x ,_W_h])\n"
   ]
  },
  {
   "cell_type": "code",
   "execution_count": 31,
   "metadata": {},
   "outputs": [],
   "source": [
    "f = theano.function(inputs=[], outputs=_h, updates=updates)"
   ]
  },
  {
   "cell_type": "code",
   "execution_count": 32,
   "metadata": {},
   "outputs": [
    {
     "data": {
      "text/plain": [
       "array([[[ 1.,  1.,  1.,  1.,  1.,  1.,  1.,  1.,  1.,  1.]],\n",
       "\n",
       "       [[ 2.,  2.,  2.,  2.,  2.,  2.,  2.,  2.,  2.,  2.]],\n",
       "\n",
       "       [[ 3.,  3.,  3.,  3.,  3.,  3.,  3.,  3.,  3.,  3.]],\n",
       "\n",
       "       [[ 4.,  4.,  4.,  4.,  4.,  4.,  4.,  4.,  4.,  4.]]], dtype=float32)"
      ]
     },
     "execution_count": 32,
     "metadata": {},
     "output_type": "execute_result"
    }
   ],
   "source": [
    "f()"
   ]
  },
  {
   "cell_type": "code",
   "execution_count": null,
   "metadata": {
    "collapsed": true
   },
   "outputs": [],
   "source": []
  }
 ],
 "metadata": {
  "kernelspec": {
   "display_name": "Python 2",
   "language": "python",
   "name": "python2"
  },
  "language_info": {
   "codemirror_mode": {
    "name": "ipython",
    "version": 2
   },
   "file_extension": ".py",
   "mimetype": "text/x-python",
   "name": "python",
   "nbconvert_exporter": "python",
   "pygments_lexer": "ipython2",
   "version": "2.7.13"
  }
 },
 "nbformat": 4,
 "nbformat_minor": 2
}
